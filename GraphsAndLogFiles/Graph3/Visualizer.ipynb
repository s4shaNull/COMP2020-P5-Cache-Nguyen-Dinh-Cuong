{
 "cells": [
  {
   "cell_type": "code",
   "execution_count": 1,
   "id": "86b40857",
   "metadata": {
    "scrolled": true
   },
   "outputs": [],
   "source": [
    "import matplotlib.pyplot as plt\n",
    "import re\n",
    "import math"
   ]
  },
  {
   "cell_type": "code",
   "execution_count": 2,
   "id": "72407ba3",
   "metadata": {},
   "outputs": [],
   "source": [
    "def get_data(file):\n",
    "    # Returns sizes of cache, miss rates.\n",
    "    block_sizes = []\n",
    "    miss_rates = []\n",
    "    with open(file, 'r') as f:\n",
    "        for line in f:\n",
    "            if \"block_size\" in line:\n",
    "                beg = re.search(r\"\\d\", line).start()\n",
    "                end = line.index(\"B\")\n",
    "                block_sizes.append(math.log(int(line[beg:end]), 2))\n",
    "            if \"miss_rate\" in line:\n",
    "                beg = re.search(r\"\\d\", line).start()\n",
    "                miss_rates.append(float(line[beg:]))\n",
    "    return block_sizes, miss_rates"
   ]
  },
  {
   "cell_type": "code",
   "execution_count": 3,
   "id": "69711dc8",
   "metadata": {},
   "outputs": [],
   "source": [
    "def plot_miss(x, y):\n",
    "    plt.plot(x, y, color='black')\n",
    "    plt.xlabel(\"Block Size (2^x Bytes)\")\n",
    "    plt.ylabel(\"Cache Miss Rate (%)\")\n",
    "    plt.title(\"Block Size vs. Miss Rate\")\n",
    "    plt.show()"
   ]
  },
  {
   "cell_type": "code",
   "execution_count": 4,
   "id": "9747c0f4",
   "metadata": {},
   "outputs": [
    {
     "data": {
      "image/png": "[encoded data removed]",
      "text/plain": [
       "<Figure size 432x288 with 1 Axes>"
      ]
     },
     "metadata": {
      "needs_background": "light"
     },
     "output_type": "display_data"
    }
   ],
   "source": [
    "if __name__ == \"__main__\":\n",
    "    block_sizes, miss_rates = get_data(\"log.txt\")\n",
    "    plot_miss(block_sizes, miss_rates)"
   ]
  },
  {
   "cell_type": "code",
   "execution_count": null,
   "id": "0ea8ff24",
   "metadata": {},
   "outputs": [],
   "source": []
  },
  {
   "cell_type": "code",
   "execution_count": null,
   "id": "e34b8dd6",
   "metadata": {},
   "outputs": [],
   "source": []
  },
  {
   "cell_type": "code",
   "execution_count": null,
   "id": "eb944058",
   "metadata": {},
   "outputs": [],
   "source": []
  }
 ],
 "metadata": {
  "kernelspec": {
   "display_name": "Python 3 (ipykernel)",
   "language": "python",
   "name": "python3"
  },
  "language_info": {
   "codemirror_mode": {
    "name": "ipython",
    "version": 3
   },
   "file_extension": ".py",
   "mimetype": "text/x-python",
   "name": "python",
   "nbconvert_exporter": "python",
   "pygments_lexer": "ipython3",
   "version": "3.8.10"
  }
 },
 "nbformat": 4,
 "nbformat_minor": 5
}
